{
 "cells": [
  {
   "cell_type": "markdown",
   "metadata": {},
   "source": [
    "# Rješenja zadataka\n",
    "\n",
    "## Zadatak 1\n",
    "\n",
    "Definirati funkciju koja kao argument prima listu, a vraća sumu kvadrata elemenata na parnim pozicijama (0,2,4...).\n",
    "\n",
    "*Napomena: operacija modulo se računa s % => 3 % 2 = 1*"
   ]
  },
  {
   "cell_type": "code",
   "execution_count": 2,
   "metadata": {},
   "outputs": [],
   "source": [
    "def f_1(lista):\n",
    "    suma = 0\n",
    "    for i in range(len(lista)):\n",
    "        if i % 2 == 0:\n",
    "            suma = suma + lista[i] ** 2 # x ** 2 = x na kvadrat\n",
    "    return suma"
   ]
  },
  {
   "cell_type": "code",
   "execution_count": 4,
   "metadata": {},
   "outputs": [
    {
     "name": "stdout",
     "output_type": "stream",
     "text": [
      "35\n"
     ]
    }
   ],
   "source": [
    "l = [1,2,3,4,5]\n",
    "\n",
    "print(f_1(l)) # 1 + 9 + 25 = 35"
   ]
  },
  {
   "cell_type": "markdown",
   "metadata": {},
   "source": [
    "## Zadatak 2\n",
    "\n",
    "Napisati program koji prima niz znakova preko ulaza te ispituje da li je ulazni niz palindrom.\n",
    "\n",
    "*Primjeri palindroma: ana, kapak, melem ...*"
   ]
  },
  {
   "cell_type": "code",
   "execution_count": 7,
   "metadata": {},
   "outputs": [
    {
     "name": "stdout",
     "output_type": "stream",
     "text": [
      "Niz za provjeru: anavolimilovana\n"
     ]
    }
   ],
   "source": [
    "ulazni_niz = input('Niz za provjeru: ')"
   ]
  },
  {
   "cell_type": "code",
   "execution_count": 10,
   "metadata": {},
   "outputs": [
    {
     "name": "stdout",
     "output_type": "stream",
     "text": [
      "Da li je niz znakova palindrom: True\n"
     ]
    }
   ],
   "source": [
    "zastavica = True\n",
    "duljina_niza = len(ulazni_niz)\n",
    "\n",
    "for i in range(duljina_niza // 2):# ima samo n / 2 parova za provjeru\n",
    "    #zadnji indeks je n - 1, parovi su onda na indeksima \"i\" i \"n-1-i\"\n",
    "    if ulazni_niz[i] != ulazni_niz[duljina_niza - i - 1]:#\n",
    "        zastavica = False   # različiti znak na istom pomaku od \n",
    "                            # početka i kraja\n",
    "            \n",
    "print('Da li je niz znakova palindrom: ' + str(zastavica))"
   ]
  },
  {
   "cell_type": "markdown",
   "metadata": {},
   "source": [
    "## Zadatak 3\n",
    "\n",
    "Inicijalizirati listu s minimalno 5 članova, preokrenuti joj redoslijed elemenata tako da prvi bude zadnji (a\n",
    "zadnji postane prvi), drugi bude predzadnji itd."
   ]
  },
  {
   "cell_type": "code",
   "execution_count": 11,
   "metadata": {},
   "outputs": [
    {
     "name": "stdout",
     "output_type": "stream",
     "text": [
      "[7, 6, 5, 4, 3, 2, 1]\n"
     ]
    }
   ],
   "source": [
    "l = [1,2,3,4,5,6,7]\n",
    "n = len(l)\n",
    "\n",
    "for i in range(n // 2):\n",
    "    # vrijednost l[i] spremamo u varijablu x da je ne izgubimo\n",
    "    x = l[i]\n",
    "    l[i] = l[n - 1 - i]\n",
    "    l[n - 1 - i] = x\n",
    "\n",
    "print(l)"
   ]
  },
  {
   "cell_type": "markdown",
   "metadata": {},
   "source": [
    "## Zadatak 4\n",
    "\n",
    "Napisati program koji prima brojeve s ulaza sve dok na ulaz ne dođe broj nula, nakon toga program ispiše sumu svih upisanih brojeva, broj unosa i prosječnu upisanu vrijednost."
   ]
  },
  {
   "cell_type": "code",
   "execution_count": 13,
   "metadata": {},
   "outputs": [
    {
     "name": "stdout",
     "output_type": "stream",
     "text": [
      "1\n",
      "2\n",
      "3\n",
      "4\n",
      "5\n",
      "0\n",
      "Suma: 15\n",
      "Broj unosa: 5\n",
      "Prosječna vrijednost: 3.0\n"
     ]
    }
   ],
   "source": [
    "suma = 0\n",
    "ct = 0\n",
    "\n",
    "x = int(input()) # pretvaranje stringa u cijeli broj\n",
    "while x != 0:\n",
    "    suma = suma + x\n",
    "    ct = ct + 1\n",
    "    x = int(input())\n",
    "    \n",
    "print('Suma: ' + str(suma))\n",
    "print('Broj unosa: ' + str(ct))\n",
    "print('Prosječna vrijednost: ' + str(suma / ct))"
   ]
  },
  {
   "cell_type": "markdown",
   "metadata": {},
   "source": [
    "## Zadatak 5\n",
    "\n",
    "Definirati funkciju koja prima 2 matrice dimenzija 2x2, a kao rezultat vraća njihov matrični umnožak."
   ]
  },
  {
   "cell_type": "code",
   "execution_count": 15,
   "metadata": {},
   "outputs": [
    {
     "name": "stdout",
     "output_type": "stream",
     "text": [
      "[[19, 22], [43, 50]]\n"
     ]
    }
   ],
   "source": [
    "def f_5(m1, m2):\n",
    "    result = [\n",
    "        [0, 0],\n",
    "        [0, 0]\n",
    "    ]\n",
    "    for i in range(2):\n",
    "        for j in range(2):\n",
    "            for k in range(2):\n",
    "                result[i][j] = result[i][j] + m1[i][k] * m2[k][j]\n",
    "    return result\n",
    "\n",
    "m1 = [\n",
    "    [1,2],\n",
    "    [3,4]\n",
    "]\n",
    "m2 = [\n",
    "    [5,6],\n",
    "    [7,8]\n",
    "]\n",
    "\n",
    "print(f_5(m1,m2))"
   ]
  }
 ],
 "metadata": {
  "kernelspec": {
   "display_name": "Python 3",
   "language": "python",
   "name": "python3"
  },
  "language_info": {
   "codemirror_mode": {
    "name": "ipython",
    "version": 3
   },
   "file_extension": ".py",
   "mimetype": "text/x-python",
   "name": "python",
   "nbconvert_exporter": "python",
   "pygments_lexer": "ipython3",
   "version": "3.7.3"
  }
 },
 "nbformat": 4,
 "nbformat_minor": 2
}
