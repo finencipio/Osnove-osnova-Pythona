{
 "cells": [
  {
   "cell_type": "markdown",
   "metadata": {},
   "source": [
    "# Osnove osnova Pythona"
   ]
  },
  {
   "cell_type": "markdown",
   "metadata": {},
   "source": [
    "Ovdje se nalaze osnovne ideje jezika Python\n",
    "\n",
    "----\n",
    "\n",
    "## Primitivni tipovi\n",
    "\n",
    "U pravilu se oni u Pythonu ne definiraju prilikom definicije varijable, nego to Python odradi za nas. Pa bi tako varijablu koja sadrži cijeli broj definirali na sljedeći način:"
   ]
  },
  {
   "cell_type": "code",
   "execution_count": 3,
   "metadata": {},
   "outputs": [
    {
     "name": "stdout",
     "output_type": "stream",
     "text": [
      "<class 'int'>\n"
     ]
    }
   ],
   "source": [
    "x = 5\n",
    "print(type(x)) # ispis tipa varijable"
   ]
  },
  {
   "cell_type": "markdown",
   "metadata": {},
   "source": [
    "U Pythonu su definirani sljedeći primitivni tipovi:\n",
    "- int (cijeli broj)\n",
    "- float (broj s pomičnim zarezom)\n",
    "- char (znak)\n",
    "\n",
    "Kako u Pythonu uglavnom ne kontroliramo tip podataka koje varijable čuvaju operacija između varijabli tipa *int* i *float* će rezultirati varijablom tipa *float*, što vidimo na sljedećem primjeru:"
   ]
  },
  {
   "cell_type": "code",
   "execution_count": 8,
   "metadata": {},
   "outputs": [
    {
     "name": "stdout",
     "output_type": "stream",
     "text": [
      "6.0\n",
      "<class 'float'>\n"
     ]
    }
   ],
   "source": [
    "a = 5\n",
    "b = 1.2\n",
    "\n",
    "c = a * b\n",
    "print(c)\n",
    "print(type(c))"
   ]
  },
  {
   "cell_type": "markdown",
   "metadata": {},
   "source": [
    "Svaka varijabla koja je primitivnog tipa može se usporediti s varijablom istog tipa. Npr. cijeli broj sa cijelim brojem."
   ]
  },
  {
   "cell_type": "code",
   "execution_count": 11,
   "metadata": {},
   "outputs": [
    {
     "name": "stdout",
     "output_type": "stream",
     "text": [
      "True\n",
      "True\n",
      "True\n",
      "True\n",
      "True\n",
      "False\n",
      "True\n"
     ]
    }
   ],
   "source": [
    "print(2 < 3) # True\n",
    "print(3 == 3) # True\n",
    "\n",
    "print(2.1 < 2.2) # True\n",
    "print(2.2 > 2) # True\n",
    "\n",
    "print('a' < 'b') # True\n",
    "print('d' < 'c') # False\n",
    "print('a' == 'a') # True"
   ]
  },
  {
   "cell_type": "markdown",
   "metadata": {},
   "source": [
    "### Int\n",
    "\n",
    "Cjelobrojno dijeljenje vršimo s operatorom **//**.  \n",
    "Modulo operaciju s **%**.  \n",
    "Potenciranje s <b>\\*\\*</b>."
   ]
  },
  {
   "cell_type": "code",
   "execution_count": 9,
   "metadata": {},
   "outputs": [
    {
     "name": "stdout",
     "output_type": "stream",
     "text": [
      "2\n",
      "1\n",
      "8\n"
     ]
    }
   ],
   "source": [
    "print(5 // 2)\n",
    "print(7 % 3)\n",
    "print(2 ** 3)"
   ]
  },
  {
   "cell_type": "markdown",
   "metadata": {},
   "source": [
    "### Double\n",
    "\n",
    "Potenciranje se vrši s operatorom <b>\\*\\*</b>.  \n",
    "Pretvorba u cijeli broj s funkcijom **<span style=\"color:green\">int</span>(varijabla)**"
   ]
  },
  {
   "cell_type": "markdown",
   "metadata": {},
   "source": [
    "----\n",
    "\n",
    "## if\n",
    "\n",
    "operator i - **<span style=\"color:green\">and</span>**\n",
    "operator ili - **<span style=\"color:green\">or</span>**\n",
    "operator ne - **<span style=\"color:green\">not</span>**\n",
    "\n",
    "Izraz **(A ili ne B) i C**, ako su zadane vrijednosti A = True, B = "
   ]
  },
  {
   "cell_type": "markdown",
   "metadata": {},
   "source": [
    "----\n",
    "\n",
    "## Složeni tipovi\n",
    "\n",
    "*Ovdje ćemo spomenuti samo osnovne složene tipove koji su već implementirani u defaultnom Python paketu.*\n",
    "\n",
    "- string (niz znakova)\n",
    "- list (općeniti niz)\n",
    "- set (općeniti skup)\n",
    "- dict (rječnik)\n",
    "\n",
    "Broj elemenata u svakom tipu možemo dohvatiti pozivom funkcije **<span style=\"color:green\">len</span>(varijabla)**\n",
    "\n",
    "### Definicija"
   ]
  },
  {
   "cell_type": "code",
   "execution_count": 14,
   "metadata": {},
   "outputs": [
    {
     "name": "stdout",
     "output_type": "stream",
     "text": [
      "{1, 2, 3, 4}\n"
     ]
    }
   ],
   "source": [
    "znakovi = 'abcde' # Može se koristiti i \" umjesto '\n",
    "\n",
    "lista = [1,2,3,4,5]\n",
    "\n",
    "skup = {1,1,2,3,4}\n",
    "print(skup) # {1, 2, 3, 4} => U skupu ne može postojati više istih elemenata\n",
    "\n",
    "rječnik = {'ime': 'Ana', 'prezime': 'Horvat', 'ocjena': 5}"
   ]
  },
  {
   "cell_type": "markdown",
   "metadata": {},
   "source": [
    "### Pristup elementima\n",
    "\n",
    "Elementima u stringu i u listi možemo pristupiti pomoću indeksiranja, s tim da je 1. element indeksiran s **0**. Elemente stringa ne možemo direktno mijenjati dok elemente liste možemo.\n",
    "\n",
    "Iteriranje kroz elemente možemo ostvariti jednostavnom for petljom."
   ]
  },
  {
   "cell_type": "code",
   "execution_count": 16,
   "metadata": {},
   "outputs": [
    {
     "name": "stdout",
     "output_type": "stream",
     "text": [
      "a\n",
      "\n",
      "3\n",
      "\n",
      "1\n",
      "2\n",
      "3\n",
      "4\n"
     ]
    }
   ],
   "source": [
    "znakovi = 'abcde'\n",
    "print(znakovi[0]) # a\n",
    "print()\n",
    "\n",
    "lista = [1,2,3,4,5]\n",
    "print(lista[2]) # 3\n",
    "print()\n",
    "\n",
    "skup = {1,1,2,3,4}\n",
    "for element in skup:\n",
    "    print(element)"
   ]
  },
  {
   "cell_type": "markdown",
   "metadata": {},
   "source": [
    "Za iteriranje od **0** do **n - 1** koristimo funkciju **<span style=\"color:green\">range</span>(n)** koja vraća objekt sličan listi.  \n",
    "Zbog ovoga kroz liste i stringove možemo iterirati na sljedeći način:"
   ]
  },
  {
   "cell_type": "code",
   "execution_count": 18,
   "metadata": {},
   "outputs": [
    {
     "name": "stdout",
     "output_type": "stream",
     "text": [
      "a\n",
      "b\n",
      "c\n",
      "d\n",
      "e\n"
     ]
    }
   ],
   "source": [
    "znakovi = 'abcde'\n",
    "duljina_znakova = len(znakovi)\n",
    "\n",
    "for i in range(duljina_znakova):\n",
    "    print(znakovi[i])"
   ]
  },
  {
   "cell_type": "markdown",
   "metadata": {},
   "source": [
    "### Provjera da li se element nalazi u kolekciji"
   ]
  },
  {
   "cell_type": "code",
   "execution_count": 26,
   "metadata": {},
   "outputs": [
    {
     "name": "stdout",
     "output_type": "stream",
     "text": [
      "True\n",
      "False\n"
     ]
    }
   ],
   "source": [
    "znakovi = 'abcde'\n",
    "print('a' in znakovi) # True\n",
    "print('z' in znakovi) # False"
   ]
  },
  {
   "cell_type": "markdown",
   "metadata": {},
   "source": [
    "### Konkatenacija stringova"
   ]
  },
  {
   "cell_type": "code",
   "execution_count": 19,
   "metadata": {},
   "outputs": [
    {
     "name": "stdout",
     "output_type": "stream",
     "text": [
      "abccde\n"
     ]
    }
   ],
   "source": [
    "print('abc' + 'cde') # abccde, zbroj stringova se tretira kao njihova konkatenacija"
   ]
  },
  {
   "cell_type": "markdown",
   "metadata": {},
   "source": [
    "### 2D lista\n",
    "\n",
    "Definiramo ju kao \"listu lista\", tj. listu unutar liste.  \n",
    "Pristup vršimo kroz dvije razine indeksiranja, prvo indeksiramo redak, pa stupac."
   ]
  },
  {
   "cell_type": "code",
   "execution_count": 22,
   "metadata": {},
   "outputs": [
    {
     "name": "stdout",
     "output_type": "stream",
     "text": [
      "2\n"
     ]
    }
   ],
   "source": [
    "matrica = [[1,2],[3,4]] #redak 0 = [1,2], redak 1 = [3,4] | stupac 0 = [1,3], stupac 1 = [2,4]\n",
    "print(matrica[0][1])"
   ]
  },
  {
   "cell_type": "markdown",
   "metadata": {},
   "source": [
    "## Funkcije\n",
    "\n",
    "Definiramo ih na sljedeći način:\n"
   ]
  },
  {
   "cell_type": "code",
   "execution_count": 23,
   "metadata": {},
   "outputs": [],
   "source": [
    "def fun(a1,a2):\n",
    "    return result"
   ]
  },
  {
   "cell_type": "markdown",
   "metadata": {},
   "source": [
    "fun - naziv funkcije  \n",
    "a1 - prvi argument  \n",
    "a2 - drugi argument  \n",
    "result - rezultat"
   ]
  },
  {
   "cell_type": "markdown",
   "metadata": {},
   "source": [
    "### Default funkcije\n",
    "\n",
    "**<span style=\"color:green\">sum</span>(kolekcija_brojeva)** - funkcija za sumu svih brojeva iz liste  \n",
    "**<span style=\"color:green\">abs</span>(varijabla)** - funkcija za izračun apsolutne vrijednosti  \n",
    "**<span style=\"color:green\">min</span>(kolekcija_brojeva)** - funkcija za izračun minimuma u kolekciji brojeva  \n",
    "**<span style=\"color:green\">max</span>(kolekcija_brojeva)** - funkcija za izračun maximuma u kolekciji brojeva  \n",
    "\n",
    "**<span style=\"color:green\">input</span>()** - funkcija za čitanje argumenata iz naredbenog retka  \n",
    "**<span style=\"color:green\">print</span>(varijabla/string)** - funkcija za ispis poruke u naredbeni redak"
   ]
  }
 ],
 "metadata": {
  "kernelspec": {
   "display_name": "Python 3",
   "language": "python",
   "name": "python3"
  },
  "language_info": {
   "codemirror_mode": {
    "name": "ipython",
    "version": 3
   },
   "file_extension": ".py",
   "mimetype": "text/x-python",
   "name": "python",
   "nbconvert_exporter": "python",
   "pygments_lexer": "ipython3",
   "version": "3.7.3"
  }
 },
 "nbformat": 4,
 "nbformat_minor": 2
}
