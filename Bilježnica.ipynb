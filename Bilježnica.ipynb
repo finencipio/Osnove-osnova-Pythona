{
 "cells": [
  {
   "cell_type": "markdown",
   "metadata": {},
   "source": [
    "# Osnove osnova Pythona"
   ]
  },
  {
   "cell_type": "markdown",
   "metadata": {},
   "source": [
    "Ovdje se nalaze osnovne ideje jezika Python\n",
    "\n",
    "----\n",
    "\n",
    "## Primitivni tipovi\n",
    "\n",
    "U pravilu se oni u Pythonu ne definiraju prilikom definicije varijable, nego to Python odradi za nas. Pa bi tako varijablu koja sadrži cijeli broj definirali na sljedeći način:"
   ]
  },
  {
   "cell_type": "code",
   "execution_count": 3,
   "metadata": {},
   "outputs": [
    {
     "name": "stdout",
     "output_type": "stream",
     "text": [
      "<class 'int'>\n"
     ]
    }
   ],
   "source": [
    "x = 5\n",
    "print(type(x)) # ispis tipa varijable"
   ]
  },
  {
   "cell_type": "markdown",
   "metadata": {},
   "source": [
    "U Pythonu su definirani sljedeći primitivni tipovi:\n",
    "- int (cijeli broj)\n",
    "- float (broj s pomičnim zarezom)\n",
    "- char (znak)\n",
    "\n",
    "Kako u Pythonu uglavnom ne kontroliramo tip podataka koje varijable čuvaju operacija između varijabli tipa *int* i *float* će rezultirati varijablom tipa *float*, što vidimo na sljedećem primjeru:"
   ]
  },
  {
   "cell_type": "code",
   "execution_count": 8,
   "metadata": {},
   "outputs": [
    {
     "name": "stdout",
     "output_type": "stream",
     "text": [
      "6.0\n",
      "<class 'float'>\n"
     ]
    }
   ],
   "source": [
    "a = 5\n",
    "b = 1.2\n",
    "\n",
    "c = a * b\n",
    "print(c)\n",
    "print(type(c))"
   ]
  },
  {
   "cell_type": "markdown",
   "metadata": {},
   "source": [
    "### Int\n",
    "\n",
    "Cjelobrojno dijeljenje vršimo s operatorom **//**.\n",
    "\n",
    "Modulo operaciju s **%**\n",
    "\n"
   ]
  }
 ],
 "metadata": {
  "kernelspec": {
   "display_name": "Python 3",
   "language": "python",
   "name": "python3"
  },
  "language_info": {
   "codemirror_mode": {
    "name": "ipython",
    "version": 3
   },
   "file_extension": ".py",
   "mimetype": "text/x-python",
   "name": "python",
   "nbconvert_exporter": "python",
   "pygments_lexer": "ipython3",
   "version": "3.7.3"
  }
 },
 "nbformat": 4,
 "nbformat_minor": 2
}
